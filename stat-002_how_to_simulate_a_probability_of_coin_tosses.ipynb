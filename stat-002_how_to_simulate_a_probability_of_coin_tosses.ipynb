{
  "nbformat": 4,
  "nbformat_minor": 0,
  "metadata": {
    "colab": {
      "provenance": []
    },
    "kernelspec": {
      "name": "python3",
      "display_name": "Python 3"
    },
    "language_info": {
      "name": "python"
    }
  },
  "cells": [
    {
      "cell_type": "markdown",
      "source": [
        "# Theme of this notebook - How to simulate a probability of coin tosses\n",
        "* Let's practice throughout solving sample questions"
      ],
      "metadata": {
        "id": "MUqaSlFWny2H"
      }
    },
    {
      "cell_type": "code",
      "source": [
        "# Question (a)\n",
        "# If you toss a fair coin 5 times, what is the theoretical probability of getting 5 consecutive tails?\n",
        "# Write Python code that computes this probability. (Answer P(5cT) = 0.03125)\n",
        "\n",
        "import math\n",
        "# Define the probability of getting a tail\n",
        "tail = 1/2\n",
        "# Define the number of tossing a fair coin as n\n",
        "n = 5\n",
        "# Define the number of consecutive tails as r\n",
        "r = 5\n",
        "\n",
        "# Define combination\n",
        "nCr = math.comb(n,r)\n",
        "P_5cT = nCr * (tail)**n\n",
        "print(P_5cT)"
      ],
      "metadata": {
        "colab": {
          "base_uri": "https://localhost:8080/"
        },
        "id": "cu83ADT15_SM",
        "outputId": "1fe86f4b-0dff-46a6-f8e2-b35824d1f10d"
      },
      "execution_count": 7,
      "outputs": [
        {
          "output_type": "stream",
          "name": "stdout",
          "text": [
            "0.03125\n"
          ]
        }
      ]
    },
    {
      "cell_type": "code",
      "source": [
        "# Question (b)\n",
        "# Write Python code that simulates 5 tosses of a coin and then counts the number of tails in the experiment.\n",
        "\n",
        "from numpy import random as rn\n",
        "\n",
        "#Define a cointoss function\n",
        "def cointoss(trial):\n",
        "    counter = 0\n",
        "    toss = rn.randint(2, size=trial)\n",
        "    #Define head=0, tail=1\n",
        "    for i in toss:\n",
        "      if i == 1:\n",
        "        counter += i\n",
        "    return print('Result: ' + str(toss) +'\\n' + 'The number of tails: ' + str(counter))\n",
        "\n",
        "cointoss(5)"
      ],
      "metadata": {
        "colab": {
          "base_uri": "https://localhost:8080/"
        },
        "id": "WCXnPFHU7nGn",
        "outputId": "c8094f6b-940e-41ec-b17a-ad0c2da75d20"
      },
      "execution_count": 8,
      "outputs": [
        {
          "output_type": "stream",
          "name": "stdout",
          "text": [
            "Result: [1 1 0 0 1]\n",
            "The number of tails: 3\n"
          ]
        }
      ]
    },
    {
      "cell_type": "code",
      "source": [
        "# Question (c)\n",
        "# Write Python code that repeats step (b) 100 times. How many times we get 5 consecutive tails?\n",
        "\n",
        "# Define a 'tails' function, which calculates the number of tails\n",
        "def tails(trial,number_of_tails):\n",
        "    counter = 0\n",
        "    toss = rn.randint(2, size=trial)\n",
        "    #Define head=0, tail=1\n",
        "    for i in toss:\n",
        "      if i == 1:\n",
        "        counter += i\n",
        "    if counter == number_of_tails:\n",
        "      return True\n",
        "    else:\n",
        "      return False\n",
        "\n",
        "# Define a 'monte_carlo' function\n",
        "def monte_carlo(trials):\n",
        "    counter = 0\n",
        "    for i in range(trials):\n",
        "        if tails(5, 5) == True:\n",
        "            counter += 1\n",
        "    return counter\n",
        "\n",
        "print('The number of 5 consecutive tails in 100 trials is: ' + str(monte_carlo(100)))"
      ],
      "metadata": {
        "colab": {
          "base_uri": "https://localhost:8080/"
        },
        "id": "Jd14seFm7z-x",
        "outputId": "5645f2db-16da-405e-9271-585ea84d214a"
      },
      "execution_count": 9,
      "outputs": [
        {
          "output_type": "stream",
          "name": "stdout",
          "text": [
            "The number of 5 consecutive tails in 100 trials is: 3\n"
          ]
        }
      ]
    },
    {
      "cell_type": "code",
      "source": [
        "# Question (d)\n",
        "# Write Python code that repeats step (b) 10,000 times. How many times (percentage) we get 5\n",
        "# consecutive tails? Your computed result obtained by simulation should be approximately equal\n",
        "# to the theoretical probability computed in step (a) (P(5cT) = 0.03125).\n",
        "# Define a 'monte_carlo_probability' function\n",
        "def monte_carlo_probability(trials):\n",
        "    counter = 0\n",
        "    for i in range(trials):\n",
        "        if tails(5, 5) == True:\n",
        "            counter += 1\n",
        "    return print('The number of 5 consecutive tails in ' + str(trials) + ' trials is: ' + str(counter) + '\\n' + 'The probability is: ' + str(counter/trials))\n",
        "\n",
        "monte_carlo_probability(10000)"
      ],
      "metadata": {
        "colab": {
          "base_uri": "https://localhost:8080/"
        },
        "id": "aRoP_BfK765n",
        "outputId": "e6441a04-21e4-4eba-e047-9e5b95c8773b"
      },
      "execution_count": 10,
      "outputs": [
        {
          "output_type": "stream",
          "name": "stdout",
          "text": [
            "The number of 5 consecutive tails in 10000 trials is: 320\n",
            "The probability is: 0.032\n"
          ]
        }
      ]
    },
    {
      "cell_type": "code",
      "source": [
        "# Question (e)\n",
        "# Let us estimate the variation of P(5cT) metric. In step ‘c’ we tossed a coin 5 times and repeated\n",
        "# this experiment 100 times, and then we counted the number of ‘tails’. Write Python code that\n",
        "# repeats this experiment of step ‘c’ 10,000 times. Generate a histogram of P(5cT) metric.\n",
        "# Difference between step (d) and step (e).\n",
        "# • In step (d) we repeat the experiment 10,000 times.\n",
        "# • In step (e) we repeat the experiment 100 times and reset the counters. We repeat the same experiment 10,000 times.\n",
        "\n",
        "import collections\n",
        "import matplotlib.pyplot as plt\n",
        "\n",
        "results = []\n",
        "for c in range(10000):\n",
        "  results.append(monte_carlo(100))\n",
        "collections = collections.Counter(results)\n",
        "\n",
        "plt.bar(list(collections.keys()), list(collections.values()))\n",
        "plt.title('Distribution of Number of 5 Consecutive Tails')\n",
        "plt.show()"
      ],
      "metadata": {
        "id": "drG0QbAe5Hbz"
      },
      "execution_count": null,
      "outputs": []
    },
    {
      "cell_type": "code",
      "source": [
        "#---End---"
      ],
      "metadata": {
        "id": "47wGV4Ssp_2G"
      },
      "execution_count": null,
      "outputs": []
    }
  ]
}