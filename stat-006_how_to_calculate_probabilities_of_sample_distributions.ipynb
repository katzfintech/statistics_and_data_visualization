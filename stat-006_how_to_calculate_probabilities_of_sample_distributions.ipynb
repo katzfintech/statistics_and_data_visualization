{
  "cells": [
    {
      "cell_type": "markdown",
      "metadata": {
        "id": "MUqaSlFWny2H"
      },
      "source": [
        "# Theme of this notebook - How to calculate probabilities of sample distributions\n",
        "* Let's practice throughout solving sample questions"
      ]
    },
    {
      "cell_type": "markdown",
      "source": [
        "# Probrem #1\n",
        "A simple random sample of size n = 49 is obtained from a population with μ = 80 and σ = 14."
      ],
      "metadata": {
        "id": "nTuE40VJmzyn"
      }
    },
    {
      "cell_type": "markdown",
      "source": [
        "# (a) Describe the sampling distribution of x?\n",
        "\n",
        "The sampling distribution of x̅:\n",
        "\n",
        "Mean:\n",
        "$μ_{x̅}$ = μ = 80<br>\n",
        "Standard Deviation: $σ_{x̅}$ = $\\frac{σ}{\\sqrt{n}}$ = $\\frac{14}{\\sqrt{49}}$ = 2<br>\n",
        "\n",
        "Therefore, the sampling distribution is: x̅ ~ N(80,2)"
      ],
      "metadata": {
        "id": "dPoP4p-SZWDA"
      }
    },
    {
      "cell_type": "code",
      "source": [
        "# (b) What is P(x > 83)\n",
        "\n",
        "#Import libraries\n",
        "import numpy as np\n",
        "from scipy.stats import norm\n",
        "\n",
        "#Define each variable\n",
        "mu_p1 = 80\n",
        "sigma_p1 = 14/np.sqrt(49)\n",
        "zscore_p1_b = (83 - mu_p1) / sigma_p1\n",
        "prob_p1_b = 1- norm.cdf(zscore_p1_b)\n",
        "print(f'Probability: {prob_p1_b*100}%')"
      ],
      "metadata": {
        "id": "jSvtfAJbJaIN",
        "colab": {
          "base_uri": "https://localhost:8080/"
        },
        "outputId": "01a336f7-5573-4003-b121-4f7faa12c7fa"
      },
      "execution_count": 15,
      "outputs": [
        {
          "output_type": "stream",
          "name": "stdout",
          "text": [
            "Probability: 6.6807201268858085%\n"
          ]
        }
      ]
    },
    {
      "cell_type": "code",
      "source": [
        "# (c) What is P(x <= 75.8)\n",
        "zscore_p1_c = (75.8 - mu_p1) / sigma_p1\n",
        "prob_p1_c = norm.cdf(zscore_p1_c)\n",
        "print(f'Probability: {prob_p1_c*100}%')"
      ],
      "metadata": {
        "colab": {
          "base_uri": "https://localhost:8080/"
        },
        "id": "UcDN0EhgRyJv",
        "outputId": "716f6437-cb67-4456-cfbc-3214397fe453"
      },
      "execution_count": 16,
      "outputs": [
        {
          "output_type": "stream",
          "name": "stdout",
          "text": [
            "Probability: 1.7864420562816494%\n"
          ]
        }
      ]
    },
    {
      "cell_type": "code",
      "source": [
        "# (d) What is P(78.3<x<85.1)\n",
        "zscore_p1_d_right = (85.1 - mu_p1) / sigma_p1\n",
        "zscore_p1_d_left = (78.3 - mu_p1) / sigma_p1\n",
        "prob_p1_d = norm.cdf(zscore_p1_d_right) - norm.cdf(zscore_p1_d_left)\n",
        "print(f'Probability: {prob_p1_d*100}%')"
      ],
      "metadata": {
        "colab": {
          "base_uri": "https://localhost:8080/"
        },
        "id": "o-VrZZ3eSeqH",
        "outputId": "f21bfeae-9416-4017-9f27-1bd018d4e8c6"
      },
      "execution_count": 17,
      "outputs": [
        {
          "output_type": "stream",
          "name": "stdout",
          "text": [
            "Probability: 79.69513109232413%\n"
          ]
        }
      ]
    },
    {
      "cell_type": "markdown",
      "source": [
        "# Problem #2:\n",
        "The reading speed of second grade students is approximately normal, with a mean of 80 words per minute (wpm) and a standard deviation of 10 wpm."
      ],
      "metadata": {
        "id": "9dUDNUQZrhNp"
      }
    },
    {
      "cell_type": "code",
      "execution_count": 18,
      "metadata": {
        "colab": {
          "base_uri": "https://localhost:8080/"
        },
        "id": "rVLg79DIt-Mx",
        "outputId": "ab376d4e-f9c1-4d06-b134-30cc23be784c"
      },
      "outputs": [
        {
          "output_type": "stream",
          "name": "stdout",
          "text": [
            "Probability: 30.853753872598688%\n"
          ]
        }
      ],
      "source": [
        "# Problem (a)\n",
        "# What is the probability a randomly selected student\n",
        "# will read more than 95 words per minute?\n",
        "\n",
        "#Define each variable\n",
        "mu_p2_a = 90\n",
        "sigma_p2_a = 10\n",
        "zscore_p2_a = (95 - mu_p2_a) / sigma_p2_a\n",
        "prob_p2_a = 1- norm.cdf(zscore_p2_a)\n",
        "print(f'Probability: {prob_p2_a*100}%')"
      ]
    },
    {
      "cell_type": "code",
      "source": [
        "# Problem (b)\n",
        "# What is the probability that a random sample of 12 second grade students\n",
        "# results in a mean reading rate of more than 95 words per minute?\n",
        "\n",
        "#Define each variable\n",
        "mu_p2_b = 90\n",
        "sigma_p2_b = 10/np.sqrt(12)\n",
        "zscore_p2_b = (95 - mu_p2_b) / sigma_p2_b\n",
        "prob_p2_b = 1- norm.cdf(zscore_p2_b)\n",
        "print(f'Probability: {prob_p2_b*100}%')"
      ],
      "metadata": {
        "id": "H_mHws_ax36b",
        "colab": {
          "base_uri": "https://localhost:8080/"
        },
        "outputId": "4af81c88-f5f8-4674-e36a-26c3fcb0e084"
      },
      "execution_count": 19,
      "outputs": [
        {
          "output_type": "stream",
          "name": "stdout",
          "text": [
            "Probability: 4.16322583317752%\n"
          ]
        }
      ]
    },
    {
      "cell_type": "code",
      "source": [
        "# Problem (c)\n",
        "# What is the probability that a random sample of 24 second grade students\n",
        "# results in a mean reading rate of more than 95 words per minute?\n",
        "\n",
        "# Define each variable\n",
        "mu_p2_c = 90\n",
        "sigma_p2_c = 10/np.sqrt(24)\n",
        "zscore_p2_c = (95 - mu_p2_c) / sigma_p2_c\n",
        "prob_p2_c = 1- norm.cdf(zscore_p2_c)\n",
        "print(f'Probability: {prob_p2_c*100}%')"
      ],
      "metadata": {
        "colab": {
          "base_uri": "https://localhost:8080/"
        },
        "id": "ZijFMlg8i5Nk",
        "outputId": "341d5e66-ddd1-48ad-8e76-27d7567d6236"
      },
      "execution_count": 20,
      "outputs": [
        {
          "output_type": "stream",
          "name": "stdout",
          "text": [
            "Probability: 0.7152939217714871%\n"
          ]
        }
      ]
    },
    {
      "cell_type": "markdown",
      "source": [
        "# Problem (d)\n",
        "What effect does increasing the sample size have on the probability? Provide an explanation for this result.\n",
        "\n",
        "My Answer:<br>\n",
        "The more the sample sizes increase, the lower probability that the mean reading speed of second grade students is more than 95 words per minute become.<br>\n",
        "This is because the standard deviation become lower as the sample sizes increase, so more second grade students' reading speeds converge to the mean."
      ],
      "metadata": {
        "id": "lDYdAolgjKKg"
      }
    },
    {
      "cell_type": "code",
      "source": [
        "# Problem (e)\n",
        "# A teacher instituted a new reading program at school.\n",
        "# After 10 weeks in the program, it was found that the mean reading speed of\n",
        "# a ramdom sample of 20 second grade students was 92.8 wpm.\n",
        "# What might you conclude based on this result?\n",
        "\n",
        "# Define each variable\n",
        "mu_p2_e = 90\n",
        "sigma_p2_e = 10/np.sqrt(20)\n",
        "zscore_p2_e = (92.8 - mu_p2_e) / sigma_p2_e\n",
        "prob_p2_e = 1- norm.cdf(zscore_p2_e)\n",
        "print(f'Probability: {prob_p2_e*100}%')"
      ],
      "metadata": {
        "id": "RnFcw9TV1a1a",
        "colab": {
          "base_uri": "https://localhost:8080/"
        },
        "outputId": "f6aacb7d-c618-4c9f-f21d-ee43c2f86ac2"
      },
      "execution_count": 21,
      "outputs": [
        {
          "output_type": "stream",
          "name": "stdout",
          "text": [
            "Probability: 10.524885002766894%\n"
          ]
        }
      ]
    },
    {
      "cell_type": "markdown",
      "source": [
        "Based on the result, we conclude that about 10.52% of samples will be above 92.8 wpm."
      ],
      "metadata": {
        "id": "AAVu41MCnVIJ"
      }
    },
    {
      "cell_type": "markdown",
      "source": [
        "# Problem #3\n",
        "A simple random sample of size n = 1,000 is obtained from a population whose size is N = 1,000,000 and whose population proportion with a specified characteristic is p = 0.35"
      ],
      "metadata": {
        "id": "Dw6bxN8Bsolz"
      }
    },
    {
      "cell_type": "markdown",
      "source": [
        "# (a) Describe the sampling distribution of p̂?\n",
        "\n",
        "The sampling distribution of p̂:\n",
        "\n",
        "Mean:\n",
        "$μ_{p̂}$ = μ = 0.35<br>\n",
        "Standard Deviation: $σ_{p̂}$  =\n",
        "$\\frac{\\sqrt{p(1-p)}}{\\sqrt{1000}}$ = $\\sqrt{0.35×(1-0.35)}$ ÷ ${10\\sqrt{10}}$ = 0.01508...<br>\n",
        "\n",
        "Therefore, the sampling distribution is: p̂ ~ N(0.35, 0.015)"
      ],
      "metadata": {
        "id": "x6W0Sc8JtYNL"
      }
    },
    {
      "cell_type": "code",
      "source": [
        "# Problem (b)\n",
        "# What is the probability of obtaining x = 390 or more indiduals\n",
        "# with the characteristic?\n",
        "\n",
        "# Define each variable\n",
        "mu_p3 = 1000 * 0.35\n",
        "sigma_p3 = 1000 * np.sqrt(0.35*0.65) / np.sqrt(1000)\n",
        "zscore_p3_b = (390-mu_p3) / sigma_p3\n",
        "prob_p3_b = 1- norm.cdf(zscore_p3_b)\n",
        "print(f'Probability: {prob_p3_b*100}%')"
      ],
      "metadata": {
        "colab": {
          "base_uri": "https://localhost:8080/"
        },
        "id": "aD1P9duGzKTS",
        "outputId": "523dc7f7-9357-425a-c692-e575384d0176"
      },
      "execution_count": 22,
      "outputs": [
        {
          "output_type": "stream",
          "name": "stdout",
          "text": [
            "Probability: 0.40011330941790435%\n"
          ]
        }
      ]
    },
    {
      "cell_type": "code",
      "source": [
        "# Problem (c)\n",
        "# What is the probability of obtaining x = 320 or fewer indiduals\n",
        "# with the characteristic?\n",
        "\n",
        "# Define each variable\n",
        "zscore_p3_c = (320-mu_p3) / sigma_p3\n",
        "prob_p3_c =norm.cdf(zscore_p3_c)\n",
        "print(f'Probability: {prob_p3_c*100}%')"
      ],
      "metadata": {
        "colab": {
          "base_uri": "https://localhost:8080/"
        },
        "id": "rFNt6EpS1hFK",
        "outputId": "16290028-ca2e-47c6-e08d-f047c9bce068"
      },
      "execution_count": 23,
      "outputs": [
        {
          "output_type": "stream",
          "name": "stdout",
          "text": [
            "Probability: 2.3351670374665328%\n"
          ]
        }
      ]
    },
    {
      "cell_type": "markdown",
      "source": [
        "# Problem #4\n",
        "According to a study conducted by the Gallup organization, the proportion of Americans who are satisfied with the way things are going in their lives is 0.82.<br>\n",
        "Suppose that a random sample of 100 Americans is obtained."
      ],
      "metadata": {
        "id": "BG4UIQqbs69a"
      }
    },
    {
      "cell_type": "markdown",
      "source": [
        "# (a) Describe the sampling distribution of p̂?\n",
        "\n",
        "The sampling distribution of p̂:\n",
        "\n",
        "Mean:\n",
        "$μ_{p̂}$ = μ = 0.82<br>\n",
        "Standard Deviation: $σ_{p̂}$ =\n",
        "$\\frac{\\sqrt{p(1-p)}}{\\sqrt{100}}$ = $\\sqrt{0.82×(1-0.82)}$ ÷ 10 = 0.03841...<br>\n",
        "\n",
        "Therefore, the sampling distribution is: p̂ ~ N(0.82, 0.038)"
      ],
      "metadata": {
        "id": "94al9U_Iy5E3"
      }
    },
    {
      "cell_type": "code",
      "source": [
        "# Problem (b)\n",
        "# What is the probability that at least 85 Americans in the sample are\n",
        "# sample are satisfied with their lives?\n",
        "mean_p4 = 100 * 0.82\n",
        "sigma_p4 = 100 * np.sqrt(0.82*0.18) /10\n",
        "zscore_p4_b = (85-mean_p4)/sigma_p4\n",
        "prob_p4_b = 1- norm.cdf(zscore_p4_b)\n",
        "print(f'Probability: {prob_p4_b*100}%')"
      ],
      "metadata": {
        "colab": {
          "base_uri": "https://localhost:8080/"
        },
        "id": "9uR_l5Sq0dZs",
        "outputId": "f48f88c1-b8f6-4685-d174-2608fff202f0"
      },
      "execution_count": 24,
      "outputs": [
        {
          "output_type": "stream",
          "name": "stdout",
          "text": [
            "Probability: 21.74398292478916%\n"
          ]
        }
      ]
    },
    {
      "cell_type": "code",
      "source": [
        "# Probrem (c)\n",
        "# What is the probability that 75 or fewer Americans in the sample are\n",
        "# satisfied with their lives? Is this result unusual?\n",
        "zscore_p4_c = (75-mean_p4)/sigma_p4\n",
        "prob_p4_c = norm.cdf(zscore_p4_c)\n",
        "print(f'Probability: {prob_p4_c*100}%')\n",
        "\n",
        "# Is this result unusual?\n",
        "# Yes, this result is unusual becuase the probability is less than 4%."
      ],
      "metadata": {
        "colab": {
          "base_uri": "https://localhost:8080/"
        },
        "id": "D93-576yBoYn",
        "outputId": "61b03e84-e322-4573-8444-adc54c9daa28"
      },
      "execution_count": 25,
      "outputs": [
        {
          "output_type": "stream",
          "name": "stdout",
          "text": [
            "Probability: 3.4225427637043824%\n"
          ]
        }
      ]
    },
    {
      "cell_type": "markdown",
      "source": [
        "# Problem #5\n",
        "According to a USA Today \"Snapshot\", 26% of adults do not have any credit cards. A simple random sample of 500 adults is obtained."
      ],
      "metadata": {
        "id": "3ZfwvVI-7ZBL"
      }
    },
    {
      "cell_type": "markdown",
      "source": [
        "# Problem (a)\n",
        "# Describe the sampling distribution of p̂, the sample proportion of adults who do not have a credit card.\n",
        "\n",
        "The sampling distribution of p̂:\n",
        "\n",
        "Mean:\n",
        "$μ_{p̂}$ = μ = 0.26<br>\n",
        "Standard Deviation: $σ_{p̂}$ =\n",
        "$\\frac{\\sqrt{p(1-p)}}{\\sqrt{500}}$ = $\\sqrt{0.26×(1-0.26)}$ ÷ 10$\\sqrt{5}$ = 0.01961...<br>\n",
        "\n",
        "Therefore, the sampling distribution is: p̂ ~ N(0.26, 0.020)"
      ],
      "metadata": {
        "id": "LRPLDfWC82Go"
      }
    },
    {
      "cell_type": "code",
      "source": [
        "# Problem(b)\n",
        "# In a random sample of 500 adults, what is the probability that less\n",
        "# than 24% have no credit cards?\n",
        "mean_p5 = 500 * 0.26\n",
        "sigma_p5 = 500 * np.sqrt(0.26*0.74) / np.sqrt(500)\n",
        "zscore_p5_b = (500*0.24-mean_p5)/sigma_p5\n",
        "prob_p5_b = norm.cdf(zscore_p5_b)\n",
        "print(f'Probability: {prob_p5_b*100}%')"
      ],
      "metadata": {
        "colab": {
          "base_uri": "https://localhost:8080/"
        },
        "id": "bSWQW1Lb7PzW",
        "outputId": "ade2ad8d-de67-4e03-b8d1-ccf201ecc45b"
      },
      "execution_count": 26,
      "outputs": [
        {
          "output_type": "stream",
          "name": "stdout",
          "text": [
            "Probability: 15.396877265468456%\n"
          ]
        }
      ]
    },
    {
      "cell_type": "code",
      "source": [
        "# Problem(c)\n",
        "# Would it be unusual if a random sample of 500 adults results in\n",
        "# 150 having no credit cards?\n",
        "zscore_p5_c = (150-mean_p5)/sigma_p5\n",
        "prob_p5_c = 1 - norm.cdf(zscore_p5_c)\n",
        "print(f'Probability: {prob_p5_c*100}%')\n",
        "\n",
        "# Is this result unusual?\n",
        "# Yes, this result is unusual becuase the probability is approximately 2%."
      ],
      "metadata": {
        "colab": {
          "base_uri": "https://localhost:8080/"
        },
        "id": "xroMIw4mBm5X",
        "outputId": "dbcdc7a6-bc8e-48a2-8f50-540430af9ecc"
      },
      "execution_count": 27,
      "outputs": [
        {
          "output_type": "stream",
          "name": "stdout",
          "text": [
            "Probability: 2.0719102343641826%\n"
          ]
        }
      ]
    },
    {
      "cell_type": "code",
      "execution_count": 14,
      "metadata": {
        "id": "Kg6_NJ0ayobH"
      },
      "outputs": [],
      "source": [
        "#---End---"
      ]
    }
  ],
  "metadata": {
    "colab": {
      "provenance": []
    },
    "kernelspec": {
      "display_name": "Python 3",
      "name": "python3"
    },
    "language_info": {
      "name": "python"
    }
  },
  "nbformat": 4,
  "nbformat_minor": 0
}